{
  "cells": [
    {
      "cell_type": "markdown",
      "metadata": {
        "id": "view-in-github",
        "colab_type": "text"
      },
      "source": [
        "<a href=\"https://colab.research.google.com/github/jermwatt/yolo-diffusion/blob/shap-e-testing/shape-e-tests.ipynb\" target=\"_parent\"><img src=\"https://colab.research.google.com/assets/colab-badge.svg\" alt=\"Open In Colab\"/></a>"
      ]
    },
    {
      "cell_type": "markdown",
      "metadata": {
        "id": "kVbKjgHovhAm"
      },
      "source": [
        "# Single object shap-e demo"
      ]
    },
    {
      "cell_type": "markdown",
      "source": [
        "## 1.  Machine setup"
      ],
      "metadata": {
        "id": "VRYMICcKcH_x"
      }
    },
    {
      "cell_type": "markdown",
      "metadata": {
        "id": "NqvrZr526EDJ"
      },
      "source": [
        "### 1.1. pre-launch machine check\n",
        "\n",
        "Activate the code block below to double check that you are using a GPU runtime for the experiments.  You don't have to use one if you can't, but the experiments will run significantly faster (in particular the diffusion steps) if you are using one."
      ]
    },
    {
      "cell_type": "code",
      "execution_count": null,
      "metadata": {
        "id": "XZEkR12-eG-Z"
      },
      "outputs": [],
      "source": [
        "# check for GPU runtime\n",
        "gpu_info = !nvidia-smi\n",
        "gpu_info = '\\n'.join(gpu_info)\n",
        "if gpu_info.find('failed') >= 0:\n",
        "  print('Not connected to a GPU')\n",
        "else:\n",
        "  print(gpu_info)\n",
        "\n",
        "# check for memory\n",
        "from psutil import virtual_memory\n",
        "ram_gb = virtual_memory().total / 1e9\n",
        "print('Your runtime has {:.1f} gigabytes of available RAM\\n'.format(ram_gb))\n",
        "\n",
        "if ram_gb < 20:\n",
        "  print('Not using a high-RAM runtime')\n",
        "else:\n",
        "  print('You are using a high-RAM runtime!')"
      ]
    },
    {
      "cell_type": "markdown",
      "metadata": {
        "id": "YGc-wRzC6ArW"
      },
      "source": [
        "### 1.2. installs - segmentation\n",
        "\n",
        "Activate the cell below to install all necessary packages to your collab enviroment for these experiments."
      ]
    },
    {
      "cell_type": "code",
      "execution_count": null,
      "metadata": {
        "id": "-iHfZS44dDgY"
      },
      "outputs": [],
      "source": [
        "# install reqiured libraries \n",
        "!pip install \"ultralytics==8.0.111\" \"transformers==4.29.2\" \"timm==0.9.2\" \"diffusers==0.16.1\" \"safetensors==0.3.1\" \"accelerate==0.19.0\""
      ]
    },
    {
      "cell_type": "markdown",
      "source": [
        "Activate the cell below to pull all helper functions required to run this demo."
      ],
      "metadata": {
        "id": "wtFjIXPcLWwr"
      }
    },
    {
      "cell_type": "code",
      "source": [
        "# pull some images from the web\n",
        "import urllib.request\n",
        "\n",
        "def download_file(url, output_path):\n",
        "    urllib.request.urlretrieve(url, output_path)\n",
        "\n",
        "# pull segmentation module\n",
        "url = \"https://raw.githubusercontent.com/jermwatt/morphi_lab/object_diffusion_collab_demo/segmenter.py\"\n",
        "local_path = \"/content/segmenter.py\"\n",
        "download_file(url,local_path)\n",
        "\n",
        "# pull diffusion module\n",
        "url = \"https://raw.githubusercontent.com/jermwatt/morphi_lab/object_diffusion_collab_demo/diffuser.py\"\n",
        "local_path = \"/content/diffuser.py\"\n",
        "download_file(url,local_path)\n",
        "\n",
        "# pull utilities module\n",
        "url = \"https://raw.githubusercontent.com/jermwatt/morphi_lab/object_diffusion_collab_demo/utilities.py\"\n",
        "local_path = \"/content/utilities.py\"\n",
        "download_file(url,local_path)\n",
        "\n",
        "# pull main module\n",
        "url = \"https://raw.githubusercontent.com/jermwatt/morphi_lab/object_diffusion_collab_demo/main.py\"\n",
        "local_path = \"/content/main.py\"\n",
        "download_file(url,local_path)"
      ],
      "metadata": {
        "id": "2v54LVfXLZ2v"
      },
      "execution_count": null,
      "outputs": []
    },
    {
      "cell_type": "markdown",
      "source": [
        "Activate the cell below to pull in a a sample images to experiment with."
      ],
      "metadata": {
        "id": "ZWvhuBddOvyi"
      }
    },
    {
      "cell_type": "code",
      "source": [
        "# man holding donut - we'll use this one for testing\n",
        "url = \"https://www.shutterstock.com/image-photo/surprised-young-man-holding-donut-260nw-586330142.jpg\"\n",
        "output_path = \"/content/test_donut.png\"\n",
        "download_file(url, output_path)"
      ],
      "metadata": {
        "id": "cgZXVwGROv7o"
      },
      "execution_count": null,
      "outputs": []
    },
    {
      "cell_type": "markdown",
      "source": [
        "### 1.2.2. shape-e installs"
      ],
      "metadata": {
        "id": "DNIV4fzJceah"
      }
    },
    {
      "cell_type": "code",
      "source": [
        "!git clone https://github.com/openai/shap-e.git /content/shap-e"
      ],
      "metadata": {
        "id": "2u1f9dQTce41"
      },
      "execution_count": null,
      "outputs": []
    },
    {
      "cell_type": "code",
      "source": [
        "# cannot seem to install in edit mode via : pip install . -e\n",
        "!cd shap-e && pip install ."
      ],
      "metadata": {
        "id": "I0SjqScNciY-"
      },
      "execution_count": null,
      "outputs": []
    },
    {
      "cell_type": "markdown",
      "source": [
        "### 1.3.  Segmentation"
      ],
      "metadata": {
        "id": "YKYhkccFdByo"
      }
    },
    {
      "cell_type": "code",
      "source": [
        "from segmenter import segment_image, label_lookup_dict"
      ],
      "metadata": {
        "id": "08V1SYPgcrjz"
      },
      "execution_count": null,
      "outputs": []
    },
    {
      "cell_type": "code",
      "source": [
        "# segment the donut out of the test image\n",
        "img_path = \"/content/test_donut.png\"\n",
        "labels = ['person']\n",
        "img, mask, seg = segment_image(img_path,\n",
        "                               labels=labels)"
      ],
      "metadata": {
        "id": "RMi1npTRcrmo"
      },
      "execution_count": null,
      "outputs": []
    },
    {
      "cell_type": "code",
      "source": [
        "seg.show_result()"
      ],
      "metadata": {
        "id": "ZXRk-Mv1crp6"
      },
      "execution_count": null,
      "outputs": []
    },
    {
      "cell_type": "code",
      "source": [
        "# set mask to 1 where img is non zero\n",
        "mask[mask!=0] = 1\n",
        "\n",
        "# multiply elementwise img and mask\n",
        "img_masked = seg.orig_img*mask"
      ],
      "metadata": {
        "id": "i0Le_csIgR5k"
      },
      "execution_count": null,
      "outputs": []
    },
    {
      "cell_type": "code",
      "source": [
        "import matplotlib.pyplot as plt\n",
        "plt.imshow(img_masked.astype(int))\n",
        "plt.show()"
      ],
      "metadata": {
        "id": "H4fSztkGgV2s"
      },
      "execution_count": null,
      "outputs": []
    },
    {
      "cell_type": "markdown",
      "source": [
        "### 1.4.  Feed into shap-e"
      ],
      "metadata": {
        "id": "__NT1U8Ydqi0"
      }
    },
    {
      "cell_type": "code",
      "source": [
        "import shap_e\n",
        "import torch\n",
        "from shap_e.diffusion.sample import sample_latents\n",
        "from shap_e.diffusion.gaussian_diffusion import diffusion_from_config\n",
        "from shap_e.models.download import load_model, load_config\n",
        "from shap_e.util.notebooks import create_pan_cameras, decode_latent_images, gif_widget\n",
        "from shap_e.util.image_util import load_image\n",
        "device = torch.device('cuda' if torch.cuda.is_available() else 'cpu')"
      ],
      "metadata": {
        "id": "nXbSpFTddiK4"
      },
      "execution_count": null,
      "outputs": []
    },
    {
      "cell_type": "code",
      "source": [
        "# load in shap-e models\n",
        "xm = load_model('transmitter', device=device)\n",
        "model = load_model('image300M', device=device)\n",
        "diffusion = diffusion_from_config(load_config('diffusion'))"
      ],
      "metadata": {
        "id": "DRPg49MNeFaO"
      },
      "execution_count": null,
      "outputs": []
    },
    {
      "cell_type": "code",
      "source": [
        "batch_size = 4\n",
        "guidance_scale = 3.0\n",
        "\n",
        "# To get the best result, you should remove the background and show only the object of interest to the model.\n",
        "image = load_image(\"/content/test_donut.png\")\n",
        "\n",
        "latents = sample_latents(\n",
        "    batch_size=batch_size,\n",
        "    model=model,\n",
        "    diffusion=diffusion,\n",
        "    guidance_scale=guidance_scale,\n",
        "    model_kwargs=dict(images=[img_masked] * batch_size),\n",
        "    progress=True,\n",
        "    clip_denoised=True,\n",
        "    use_fp16=True,\n",
        "    use_karras=True,\n",
        "    karras_steps=64,\n",
        "    sigma_min=1e-3,\n",
        "    sigma_max=160,\n",
        "    s_churn=0,\n",
        ")"
      ],
      "metadata": {
        "id": "8GeTXQ_SeSAa"
      },
      "execution_count": null,
      "outputs": []
    },
    {
      "cell_type": "code",
      "source": [
        "render_mode = 'nerf' # you can change this to 'stf' for mesh rendering\n",
        "size = 256 # this is the size of the renders; higher values take longer to render.\n",
        "\n",
        "cameras = create_pan_cameras(size, device)\n",
        "for i, latent in enumerate(latents):\n",
        "    images = decode_latent_images(xm, latent, cameras, rendering_mode=render_mode)\n",
        "    display(gif_widget(images))\n",
        "    break"
      ],
      "metadata": {
        "id": "31I_gaHyegv0"
      },
      "execution_count": null,
      "outputs": []
    },
    {
      "cell_type": "code",
      "source": [],
      "metadata": {
        "id": "8ui4Jnicfad8"
      },
      "execution_count": null,
      "outputs": []
    }
  ],
  "metadata": {
    "accelerator": "GPU",
    "colab": {
      "gpuType": "T4",
      "machine_shape": "hm",
      "private_outputs": true,
      "provenance": [],
      "include_colab_link": true
    },
    "kernelspec": {
      "display_name": "Python 3",
      "name": "python3"
    },
    "language_info": {
      "name": "python"
    }
  },
  "nbformat": 4,
  "nbformat_minor": 0
}